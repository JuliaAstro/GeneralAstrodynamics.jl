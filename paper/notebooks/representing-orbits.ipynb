{
 "cells": [
  {
   "cell_type": "markdown",
   "metadata": {},
   "source": [
    "# Representing Orbits\n",
    "\n",
    "Any point in any gravitational field can be described by an `AbstractOrbit` for the \n",
    "purposes of `GeneralAstrodynamics`. Every `AbstractOrbit` should provide the \n",
    "_state_ of the body in the gravitational field, and a _system_ to construct the \n",
    "gravitational field. The `AstrodynamicalModels` package provides representations\n",
    "for orbits in common astrodynamical systems, e.g. the restricted two-body problem,\n",
    "the circular restricted three-body problem, and the N-body problem. To illustrate \n",
    "how orbits are represented, let's walk through an example in the restricted \n",
    "two-body problem. In this scenario, we can describe a massless particle in the \n",
    "gravitational field of a spherical shell with mass $m$.\n",
    "\n",
    "## Dependency Management\n",
    "\n",
    "The following dependencies are used in this notebook.\n"
   ]
  },
  {
   "cell_type": "code",
   "execution_count": 22,
   "metadata": {},
   "outputs": [
    {
     "name": "stderr",
     "output_type": "stream",
     "text": [
      "\u001b[32m\u001b[1m  Activating\u001b[22m\u001b[39m project at `~/Projects/Astrodynamics/GeneralAstrodynamics.jl/paper`\n",
      "\u001b[32m\u001b[1m   Resolving\u001b[22m\u001b[39m package versions...\n",
      "\u001b[32m\u001b[1m  No Changes\u001b[22m\u001b[39m to `~/Projects/Astrodynamics/GeneralAstrodynamics.jl/paper/Project.toml`\n",
      "\u001b[32m\u001b[1m  No Changes\u001b[22m\u001b[39m to `~/Projects/Astrodynamics/GeneralAstrodynamics.jl/paper/Manifest.toml`\n"
     ]
    }
   ],
   "source": [
    "import Pkg\n",
    "Pkg.activate(joinpath(@__DIR__, \"..\"))\n",
    "Pkg.develop(; url=joinpath(@__DIR__, \"..\", \"..\"))\n",
    "Pkg.instantiate()\n",
    "\n",
    "using GeneralAstrodynamics, DynamicQuantities, StaticArrays"
   ]
  },
  {
   "cell_type": "markdown",
   "metadata": {},
   "source": [
    "## State Vectors\n",
    "\n",
    "One of Julia's most popular packages --- `StaticArrays.jl` --- provides as \n",
    "`FieldVector` type that allows users to create performant labeled vectors. The\n",
    "`AstrodynamicalModels.jl` package provides `FieldVector` sub-types for common\n",
    "state and parameter representations in astrodynamics. Two such state \n",
    "representations are the `CartesianState` and `OrbitalElements`. Both types \n",
    "provide convenience constructors with keyword arguments, and allocations\n",
    "without initialization.\n",
    "\n",
    "The `CartesianState` type represents a position and velocity in three-dimensional\n",
    "space: $x$, $y$, $z$, $\\dot{x}$, $\\dot{y}$, and $\\dot{z}$. Note the convenience \n",
    "constructors shown below. This type, and all other state vector types provided by\n",
    "`AstrodynamicalModels`, is `mutable`. "
   ]
  },
  {
   "cell_type": "code",
   "execution_count": 23,
   "metadata": {},
   "outputs": [
    {
     "data": {
      "text/plain": [
       "CartesianState with eltype Float64\n",
       "\n",
       "  x: 1.1e6\n",
       "  y: 0.0\n",
       "  z: 500000.0\n",
       "  ẋ: 0.0\n",
       "  ẏ: 10000.0\n",
       "  ż: 0.0\n"
      ]
     },
     "metadata": {},
     "output_type": "display_data"
    }
   ],
   "source": [
    "CartesianState(x=11e5, z=5e5, ẏ=1e4)"
   ]
  },
  {
   "cell_type": "code",
   "execution_count": 24,
   "metadata": {},
   "outputs": [
    {
     "data": {
      "text/plain": [
       "CartesianState with eltype Float64\n",
       "\n",
       "  x: 0.0\n",
       "  y: 0.0\n",
       "  z: 0.0\n",
       "  ẋ: 0.0\n",
       "  ẏ: 0.0\n",
       "  ż: 0.0\n"
      ]
     },
     "metadata": {},
     "output_type": "display_data"
    }
   ],
   "source": [
    "CartesianState()"
   ]
  },
  {
   "cell_type": "code",
   "execution_count": 25,
   "metadata": {},
   "outputs": [
    {
     "data": {
      "text/plain": [
       "CartesianState with eltype Float64\n",
       "\n",
       "  x: 3.0665334336e-314\n",
       "  y: 5.0e-324\n",
       "  z: 1.5714e-317\n",
       "  ẋ: 5.0e-324\n",
       "  ẏ: 4.0e-323\n",
       "  ż: NaN\n"
      ]
     },
     "metadata": {},
     "output_type": "display_data"
    }
   ],
   "source": [
    "CartesianState(undef)"
   ]
  },
  {
   "cell_type": "markdown",
   "metadata": {},
   "source": [
    "The `OrbitalElements` type defines a Keplerian state with traditional orbital elements: \n",
    "eccentricity $e$, semi-major axis $a$, inclination $i$, right ascension of the ascending\n",
    "node $\\Omega$, argument of periapsis $\\omega$, and true anomaly $\\nu$. "
   ]
  },
  {
   "cell_type": "code",
   "execution_count": 26,
   "metadata": {},
   "outputs": [
    {
     "data": {
      "text/plain": [
       "OrbitalElements with eltype Float64\n",
       "\n",
       "  e: 0.99\n",
       "  a: 1.0e6\n",
       "  i: 0.0\n",
       "  Ω: 0.0\n",
       "  ω: 0.0\n",
       "  ν: 0.0\n"
      ]
     },
     "metadata": {},
     "output_type": "display_data"
    }
   ],
   "source": [
    "OrbitalElements(e=0.99, a=10e5)"
   ]
  },
  {
   "cell_type": "code",
   "execution_count": 27,
   "metadata": {},
   "outputs": [
    {
     "data": {
      "text/plain": [
       "OrbitalElements with eltype Float64\n",
       "\n",
       "  e: 0.0\n",
       "  a: 0.0\n",
       "  i: 0.0\n",
       "  Ω: 0.0\n",
       "  ω: 0.0\n",
       "  ν: 0.0\n"
      ]
     },
     "metadata": {},
     "output_type": "display_data"
    }
   ],
   "source": [
    "OrbitalElements()"
   ]
  },
  {
   "cell_type": "code",
   "execution_count": 28,
   "metadata": {},
   "outputs": [
    {
     "data": {
      "text/plain": [
       "OrbitalElements with eltype Float64\n",
       "\n",
       "  e: 2.03e-322\n",
       "  a: 4.96255345484001e228\n",
       "  i: 6.807402956851786e199\n",
       "  Ω: 9.701582850788981e189\n",
       "  ω: 2.1162700550059405e214\n",
       "  ν: 6.2145277554479345e175\n"
      ]
     },
     "metadata": {},
     "output_type": "display_data"
    }
   ],
   "source": [
    "OrbitalElements(undef)"
   ]
  },
  {
   "cell_type": "markdown",
   "metadata": {},
   "source": [
    "## Parameter Types\n",
    "\n",
    "Dynamical systems may be defined by their equations, states, and parameters. \n",
    "The parameters describe how the specific instantiation of a general system \n",
    "will behave. Parameter types for all systems provided by `AstrodynamicalModels.jl`\n",
    "are available as `FieldVector` sub-types, though this may change (with a major\n",
    "version bump) in the future to better conform with `ModelingToolkit.jl`'s \n",
    "`v9` release. All parameter types are **not mutable**, therefore they have no \n",
    "uninitialized memory constructors. \n",
    "\n",
    ":::{.callout-note}\n",
    "\n",
    "This interface may look familiar to you! We are following the SciML organization's\n",
    "_solver interface_, where any `ODESystem` is defined (mostly) by its states,\n",
    "parameters, and equations. \n",
    "\n",
    ":::\n"
   ]
  },
  {
   "cell_type": "code",
   "execution_count": 29,
   "metadata": {},
   "outputs": [
    {
     "data": {
      "text/plain": [
       "R2BParameters with eltype Float64\n",
       "\n",
       "  μ: 5.0e11\n"
      ]
     },
     "metadata": {},
     "output_type": "display_data"
    }
   ],
   "source": [
    "R2BParameters(5e11)"
   ]
  },
  {
   "cell_type": "code",
   "execution_count": 30,
   "metadata": {},
   "outputs": [
    {
     "data": {
      "text/plain": [
       "R2BParameters with eltype Float64\n",
       "\n",
       "  μ: 1.0e7\n"
      ]
     },
     "metadata": {},
     "output_type": "display_data"
    }
   ],
   "source": [
    "R2BParameters(μ=1e7)"
   ]
  },
  {
   "cell_type": "markdown",
   "metadata": {},
   "source": [
    "## Dynamics\n",
    "\n",
    "Within `AstrodynamicalModels.jl`, dynamics are mapped one-to-one with parameter\n",
    "types. No two systems may have the same parameter types! To recover an `ODEFunction`\n",
    "with a system's equations of motion, try the `dynamics` method."
   ]
  },
  {
   "cell_type": "code",
   "execution_count": 31,
   "metadata": {},
   "outputs": [
    {
     "data": {
      "text/plain": [
       "CartesianState with eltype Float64\n",
       "\n",
       "  x: 0.9560323290768354\n",
       "  y: 0.6378002185832633\n",
       "  z: 0.733863458978701\n",
       "  ẋ: 0.3759268268204885\n",
       "  ẏ: 0.8662613119506547\n",
       "  ż: 0.4776611433305632\n"
      ]
     },
     "metadata": {},
     "output_type": "display_data"
    }
   ],
   "source": [
    "rand(CartesianState)"
   ]
  },
  {
   "cell_type": "code",
   "execution_count": 32,
   "metadata": {},
   "outputs": [
    {
     "data": {
      "text/plain": [
       "6-element Vector{Float64}:\n",
       " -0.20047416524420056\n",
       " -0.23012851587920408\n",
       " -0.8927694627193575\n",
       "  0.060723333253600464\n",
       "  0.013593251974973165\n",
       "  0.1830599389748437"
      ]
     },
     "metadata": {},
     "output_type": "display_data"
    }
   ],
   "source": [
    "earth = R2BParameters(5e11)\n",
    "\n",
    "f = AstrodynamicalModels.dynamics(earth)\n",
    "\n",
    "du = let u = randn(CartesianState), p = randn(R2BParameters), t = NaN\n",
    "    du = zeros(6)\n",
    "    f(du, u, p, t)\n",
    "    du\n",
    "end"
   ]
  },
  {
   "cell_type": "markdown",
   "metadata": {},
   "source": [
    "## Orbit Types\n",
    "\n",
    "Finally, we have all of the pieces necessary to fully describe an astrodynamical\n",
    "orbit. See the `Orbit` type's documentation below, along with usage examples.\n",
    "Keeping the state and parameters tied together makes domain-specific calculations\n",
    "easier: for this, see the `AstrodynamicalCalculations` package! \n",
    "\n",
    "When a `R2BOrbit` is shown within Julia, its conic section is automatically\n",
    "computed and displayed. "
   ]
  },
  {
   "cell_type": "code",
   "execution_count": 33,
   "metadata": {},
   "outputs": [
    {
     "data": {
      "text/plain": [
       "Elliptical Orbit in Restricted Two Body Dynamics\n",
       "\n",
       "  CartesianState with eltype Float64\n",
       "  \n",
       "    x: 1.1e6\n",
       "    y: 0.0\n",
       "    z: 300000.0\n",
       "    ẋ: 0.0\n",
       "    ẏ: 1000.0\n",
       "    ż: 0.0\n",
       "\n",
       "  R2BParameters with eltype Float64\n",
       "  \n",
       "    μ: 5.0e17\n"
      ]
     },
     "metadata": {},
     "output_type": "display_data"
    }
   ],
   "source": [
    "orbit = Orbit(\n",
    "    CartesianState(x=11e5, z=3e5, ẏ=1e3),\n",
    "    R2BParameters(μ=5e17)\n",
    ")"
   ]
  },
  {
   "cell_type": "code",
   "execution_count": 34,
   "metadata": {},
   "outputs": [
    {
     "data": {
      "text/plain": [
       "6-element Vector{Float64}:\n",
       "  0.5688870324806231\n",
       "  0.20773839389773607\n",
       "  0.6107848389898091\n",
       " -0.7392318217719731\n",
       " -0.21888630690684702\n",
       " -0.49614552704070186"
      ]
     },
     "metadata": {},
     "output_type": "display_data"
    }
   ],
   "source": [
    "f = dynamics(orbit)\n",
    "f(du, rand(CartesianState), rand(R2BParameters), 0)\n",
    "du"
   ]
  },
  {
   "cell_type": "code",
   "execution_count": 35,
   "metadata": {},
   "outputs": [
    {
     "data": {
      "text/plain": [
       "0.99999771964915"
      ]
     },
     "metadata": {},
     "output_type": "display_data"
    }
   ],
   "source": [
    "eccentricity(orbit)"
   ]
  },
  {
   "cell_type": "code",
   "execution_count": 36,
   "metadata": {},
   "outputs": [
    {
     "data": {
      "text/plain": [
       "OrbitalElements with eltype Float64\n",
       "\n",
       "  e: 0.99999771964915\n",
       "  a: 570088.3625503101\n",
       "  i: 0.2662520491509256\n",
       "  Ω: 4.71238898038469\n",
       "  ω: 4.71238898038469\n",
       "  ν: 3.141592653589793\n"
      ]
     },
     "metadata": {},
     "output_type": "display_data"
    }
   ],
   "source": [
    "cartesian_to_keplerian(orbit.state, orbit.parameters)"
   ]
  }
 ],
 "metadata": {
  "kernelspec": {
   "display_name": "Julia 1.10.4",
   "language": "julia",
   "name": "julia-1.10"
  },
  "language_info": {
   "file_extension": ".jl",
   "mimetype": "application/julia",
   "name": "julia",
   "version": "1.10.4"
  }
 },
 "nbformat": 4,
 "nbformat_minor": 2
}
