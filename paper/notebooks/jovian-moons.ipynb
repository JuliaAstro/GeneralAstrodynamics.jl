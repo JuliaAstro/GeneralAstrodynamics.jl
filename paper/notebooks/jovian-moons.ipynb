{
 "cells": [
  {
   "cell_type": "markdown",
   "metadata": {},
   "source": [
    "# Re-touring Jovian Moons\n",
    "\n"
   ]
  },
  {
   "cell_type": "code",
   "execution_count": 4,
   "metadata": {},
   "outputs": [
    {
     "name": "stderr",
     "output_type": "stream",
     "text": [
      "\u001b[32m\u001b[1m  Activating\u001b[22m\u001b[39m project at `~/Projects/Astrodynamics/GeneralAstrodynamics.jl/paper`\n",
      "\u001b[32m\u001b[1m   Resolving\u001b[22m\u001b[39m package versions...\n",
      "\u001b[32m\u001b[1m  No Changes\u001b[22m\u001b[39m to `~/Projects/Astrodynamics/GeneralAstrodynamics.jl/paper/Project.toml`\n",
      "\u001b[32m\u001b[1m  No Changes\u001b[22m\u001b[39m to `~/Projects/Astrodynamics/GeneralAstrodynamics.jl/paper/Manifest.toml`\n"
     ]
    }
   ],
   "source": [
    "import Pkg\n",
    "Pkg.activate(joinpath(@__DIR__, \"..\"))\n",
    "\n",
    "Pkg.develop(\n",
    "    [\n",
    "        Pkg.PackageSpec(; path=joinpath(@__DIR__, \"..\", \"..\", \"lib\", \"AstrodynamicalCalculations\")),\n",
    "        Pkg.PackageSpec(; path=joinpath(@__DIR__, \"..\", \"..\", \"lib\", \"AstrodynamicalModels\")),\n",
    "        Pkg.PackageSpec(; path=joinpath(@__DIR__, \"..\", \"..\", \"lib\", \"AstrodynamicalSolvers\")),\n",
    "        Pkg.PackageSpec(; path=joinpath(@__DIR__, \"..\", \"..\")),\n",
    "    ]\n",
    ")\n",
    "\n",
    "Pkg.instantiate()\n",
    "\n",
    "using SPICE, SPICEKernels\n",
    "using GeneralAstrodynamics, Plots\n",
    "using OrdinaryDiffEq, StaticArrays\n",
    "\n",
    "furnsh(\n",
    "    jup344(),                 # position and velocity data the Jupiter system\n",
    "    latest_leapseconds_tls(), # timekeeping, parsing epochs\n",
    "    gm_de440(),               # mass parameters for major solar system bodies\n",
    "    pck00011(),               # physical properties of major solar system bodies\n",
    "\n",
    ")"
   ]
  }
 ],
 "metadata": {
  "kernelspec": {
   "display_name": "Julia 1.11.1",
   "language": "julia",
   "name": "julia-1.11"
  },
  "language_info": {
   "file_extension": ".jl",
   "mimetype": "application/julia",
   "name": "julia",
   "version": "1.11.1"
  }
 },
 "nbformat": 4,
 "nbformat_minor": 2
}
