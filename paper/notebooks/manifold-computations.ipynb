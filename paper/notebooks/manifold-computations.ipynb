version https://git-lfs.github.com/spec/v1
oid sha256:c855d4eb5096eda68087e94b084b78a93280e77d8907e2808597241bcb7e5030
size 6318903
