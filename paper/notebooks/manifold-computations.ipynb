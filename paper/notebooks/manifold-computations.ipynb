version https://git-lfs.github.com/spec/v1
oid sha256:1e3f547093e7cb31594a2f4c113cdf7de2f05cc92884288a1ebfa022b0ea297b
size 9427
