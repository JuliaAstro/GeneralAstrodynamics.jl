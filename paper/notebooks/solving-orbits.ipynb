{
 "cells": [
  {
   "cell_type": "markdown",
   "metadata": {},
   "source": [
    "# Solving for Orbits\n",
    "\n",
    "While periodic restricted two-body orbits are simple to find, other dynamical\n",
    "systems require more involved methods for finding periodic orbits. Periodic\n",
    "circular restricted three-body orbits can be found using differential correction\n",
    "algorithms; these algorithms are provided by the `AstrodynamicalSolvers` package,\n",
    "which is included in `GeneralAstrodynamics`. \n",
    "\n",
    "## Dependency Management\n",
    "\n",
    "The following dependencies are used in this notebook.\n"
   ]
  },
  {
   "cell_type": "code",
   "execution_count": 5,
   "metadata": {},
   "outputs": [
    {
     "name": "stderr",
     "output_type": "stream",
     "text": [
      "\u001b[32m\u001b[1m  Activating\u001b[22m\u001b[39m project at `/workspaces/GeneralAstrodynamics.jl/paper`\n",
      "\u001b[32m\u001b[1m   Resolving\u001b[22m\u001b[39m package versions...\n",
      "\u001b[32m\u001b[1m  No Changes\u001b[22m\u001b[39m to `/workspaces/GeneralAstrodynamics.jl/paper/Project.toml`\n",
      "\u001b[32m\u001b[1m  No Changes\u001b[22m\u001b[39m to `/workspaces/GeneralAstrodynamics.jl/paper/Manifest.toml`\n"
     ]
    }
   ],
   "source": [
    "import Pkg\n",
    "Pkg.activate(joinpath(@__DIR__, \"..\"))\n",
    "\n",
    "Pkg.develop(\n",
    "    [\n",
    "        Pkg.PackageSpec(; path=joinpath(@__DIR__, \"..\", \"..\", \"lib\", \"AstrodynamicalCalculations\")),\n",
    "        Pkg.PackageSpec(; path=joinpath(@__DIR__, \"..\", \"..\", \"lib\", \"AstrodynamicalModels\")),\n",
    "        Pkg.PackageSpec(; path=joinpath(@__DIR__, \"..\", \"..\", \"lib\", \"AstrodynamicalSolvers\")),\n",
    "        Pkg.PackageSpec(; path=joinpath(@__DIR__, \"..\", \"..\")),\n",
    "    ]\n",
    ")\n",
    "\n",
    "Pkg.instantiate()\n",
    "\n",
    "using GeneralAstrodynamics, Plots"
   ]
  },
  {
   "cell_type": "markdown",
   "metadata": {},
   "source": [
    "## Lyapunov Orbits\n",
    "\n",
    "Initial conditions for planar (lyapunov) orbits in circular restricted \n",
    "three-body dynamics can be found using the `lyapunov` function. The function\n",
    "takes in literal arguments: initial guesses for $x$ and $\\dot{y}$ values in \n",
    "normalized synodic coordinates, normalized mass parameter $\\mu$, and an initial\n",
    "guess for a normalized orbital period $T$. "
   ]
  },
  {
   "cell_type": "code",
   "execution_count": 6,
   "metadata": {},
   "outputs": [
    {
     "data": {
      "text/plain": [
       "(x = 1.1, ẏ = 0.16470443657623324, Δt = 3.3860120504856854)"
      ]
     },
     "metadata": {},
     "output_type": "display_data"
    }
   ],
   "source": [
    "let x = 1.1, ẏ = 0.15, μ = 0.012, T = 3.4\n",
    "    lyapunov(x, ẏ, μ, T)\n",
    "end"
   ]
  },
  {
   "cell_type": "markdown",
   "metadata": {},
   "source": [
    "## Halo Orbits\n",
    "\n",
    "Initial conditions for extra-planar (halo) orbits in circular restricted \n",
    "three-body dynamics can be found using the `halo` function. The function\n",
    "takes in literal arguments: initial guesses for $x$, $z$, and $\\dot{y}$ values \n",
    "in normalized synodic coordinates, normalized mass parameter $\\mu$, and an initial\n",
    "guess for a normalized orbital period $T$. "
   ]
  },
  {
   "cell_type": "code",
   "execution_count": 7,
   "metadata": {},
   "outputs": [
    {
     "data": {
      "text/plain": [
       "(x = 1.1199888930945698, z = 0.0009, ẏ = 0.17522969965552507, Δt = 3.4140846896764954)"
      ]
     },
     "metadata": {},
     "output_type": "display_data"
    }
   ],
   "source": [
    "let x = 1.12, z = 0.0009, ẏ = 0.175, μ = 0.012, T = 3.1\n",
    "    halo(x, z, ẏ, μ, T)\n",
    "end"
   ]
  },
  {
   "cell_type": "markdown",
   "metadata": {},
   "source": [
    "## Semantic Solvers\n",
    "\n",
    "In addition to _literal_ arguments, you can also use a `halo` method with \n",
    "_semantic_ arguments: desired orbit amplitude and phase, lagrange point, etc.\n",
    "Internally, an approximate solution is computed using the Richardson expansion:\n",
    "see the `AstrodynamicalCalculations.richardson_ic` function for more information\n",
    "about the approximation used. Note that you can compute a periodic planar \n",
    "(lyapunov) orbit with semantic arguments by calling the `halo` method with \n",
    "keyword argument `amplitude=0`."
   ]
  },
  {
   "cell_type": "code",
   "execution_count": 8,
   "metadata": {},
   "outputs": [
    {
     "data": {
      "text/plain": [
       "(x = 0.8241721649330443, z = 0.001110391755138505, ẏ = 0.1258842111745112, Δt = 2.7443592517398923)"
      ]
     },
     "metadata": {},
     "output_type": "display_data"
    }
   ],
   "source": [
    "let μ = 0.012, lagrange = 1, amplitude = 1e-3\n",
    "    halo(μ, lagrange; amplitude = amplitude)\n",
    "end"
   ]
  }
 ],
 "metadata": {
  "kernelspec": {
   "display_name": "Julia 1.10.4",
   "language": "julia",
   "name": "julia-1.10"
  },
  "language_info": {
   "file_extension": ".jl",
   "mimetype": "application/julia",
   "name": "julia",
   "version": "1.10.4"
  }
 },
 "nbformat": 4,
 "nbformat_minor": 2
}
